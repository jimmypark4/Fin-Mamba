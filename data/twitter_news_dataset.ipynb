{
 "cells": [
  {
   "cell_type": "code",
   "execution_count": 10,
   "metadata": {},
   "outputs": [
    {
     "name": "stdout",
     "output_type": "stream",
     "text": [
      "Requirement already satisfied: datasets in /home/jimmy/miniconda3/envs/blackmamba/lib/python3.12/site-packages (3.2.0)\n",
      "Requirement already satisfied: filelock in /home/jimmy/miniconda3/envs/blackmamba/lib/python3.12/site-packages (from datasets) (3.13.1)\n",
      "Requirement already satisfied: numpy>=1.17 in /home/jimmy/miniconda3/envs/blackmamba/lib/python3.12/site-packages (from datasets) (2.2.1)\n",
      "Requirement already satisfied: pyarrow>=15.0.0 in /home/jimmy/miniconda3/envs/blackmamba/lib/python3.12/site-packages (from datasets) (19.0.0)\n",
      "Requirement already satisfied: dill<0.3.9,>=0.3.0 in /home/jimmy/miniconda3/envs/blackmamba/lib/python3.12/site-packages (from datasets) (0.3.8)\n",
      "Requirement already satisfied: pandas in /home/jimmy/miniconda3/envs/blackmamba/lib/python3.12/site-packages (from datasets) (2.2.3)\n",
      "Requirement already satisfied: requests>=2.32.2 in /home/jimmy/miniconda3/envs/blackmamba/lib/python3.12/site-packages (from datasets) (2.32.3)\n",
      "Requirement already satisfied: tqdm>=4.66.3 in /home/jimmy/miniconda3/envs/blackmamba/lib/python3.12/site-packages (from datasets) (4.67.1)\n",
      "Requirement already satisfied: xxhash in /home/jimmy/miniconda3/envs/blackmamba/lib/python3.12/site-packages (from datasets) (3.5.0)\n",
      "Requirement already satisfied: multiprocess<0.70.17 in /home/jimmy/miniconda3/envs/blackmamba/lib/python3.12/site-packages (from datasets) (0.70.16)\n",
      "Requirement already satisfied: fsspec<=2024.9.0,>=2023.1.0 in /home/jimmy/miniconda3/envs/blackmamba/lib/python3.12/site-packages (from fsspec[http]<=2024.9.0,>=2023.1.0->datasets) (2024.9.0)\n",
      "Requirement already satisfied: aiohttp in /home/jimmy/miniconda3/envs/blackmamba/lib/python3.12/site-packages (from datasets) (3.11.11)\n",
      "Requirement already satisfied: huggingface-hub>=0.23.0 in /home/jimmy/miniconda3/envs/blackmamba/lib/python3.12/site-packages (from datasets) (0.27.1)\n",
      "Requirement already satisfied: packaging in /home/jimmy/miniconda3/envs/blackmamba/lib/python3.12/site-packages (from datasets) (24.2)\n",
      "Requirement already satisfied: pyyaml>=5.1 in /home/jimmy/miniconda3/envs/blackmamba/lib/python3.12/site-packages (from datasets) (6.0.2)\n",
      "Requirement already satisfied: aiohappyeyeballs>=2.3.0 in /home/jimmy/miniconda3/envs/blackmamba/lib/python3.12/site-packages (from aiohttp->datasets) (2.4.4)\n",
      "Requirement already satisfied: aiosignal>=1.1.2 in /home/jimmy/miniconda3/envs/blackmamba/lib/python3.12/site-packages (from aiohttp->datasets) (1.3.2)\n",
      "Requirement already satisfied: attrs>=17.3.0 in /home/jimmy/miniconda3/envs/blackmamba/lib/python3.12/site-packages (from aiohttp->datasets) (24.3.0)\n",
      "Requirement already satisfied: frozenlist>=1.1.1 in /home/jimmy/miniconda3/envs/blackmamba/lib/python3.12/site-packages (from aiohttp->datasets) (1.5.0)\n",
      "Requirement already satisfied: multidict<7.0,>=4.5 in /home/jimmy/miniconda3/envs/blackmamba/lib/python3.12/site-packages (from aiohttp->datasets) (6.1.0)\n",
      "Requirement already satisfied: propcache>=0.2.0 in /home/jimmy/miniconda3/envs/blackmamba/lib/python3.12/site-packages (from aiohttp->datasets) (0.2.1)\n",
      "Requirement already satisfied: yarl<2.0,>=1.17.0 in /home/jimmy/miniconda3/envs/blackmamba/lib/python3.12/site-packages (from aiohttp->datasets) (1.18.3)\n",
      "Requirement already satisfied: typing-extensions>=3.7.4.3 in /home/jimmy/miniconda3/envs/blackmamba/lib/python3.12/site-packages (from huggingface-hub>=0.23.0->datasets) (4.12.2)\n",
      "Requirement already satisfied: charset-normalizer<4,>=2 in /home/jimmy/miniconda3/envs/blackmamba/lib/python3.12/site-packages (from requests>=2.32.2->datasets) (3.4.1)\n",
      "Requirement already satisfied: idna<4,>=2.5 in /home/jimmy/miniconda3/envs/blackmamba/lib/python3.12/site-packages (from requests>=2.32.2->datasets) (3.10)\n",
      "Requirement already satisfied: urllib3<3,>=1.21.1 in /home/jimmy/miniconda3/envs/blackmamba/lib/python3.12/site-packages (from requests>=2.32.2->datasets) (2.3.0)\n",
      "Requirement already satisfied: certifi>=2017.4.17 in /home/jimmy/miniconda3/envs/blackmamba/lib/python3.12/site-packages (from requests>=2.32.2->datasets) (2024.12.14)\n",
      "Requirement already satisfied: python-dateutil>=2.8.2 in /home/jimmy/miniconda3/envs/blackmamba/lib/python3.12/site-packages (from pandas->datasets) (2.9.0.post0)\n",
      "Requirement already satisfied: pytz>=2020.1 in /home/jimmy/miniconda3/envs/blackmamba/lib/python3.12/site-packages (from pandas->datasets) (2024.2)\n",
      "Requirement already satisfied: tzdata>=2022.7 in /home/jimmy/miniconda3/envs/blackmamba/lib/python3.12/site-packages (from pandas->datasets) (2024.2)\n",
      "Requirement already satisfied: six>=1.5 in /home/jimmy/miniconda3/envs/blackmamba/lib/python3.12/site-packages (from python-dateutil>=2.8.2->pandas->datasets) (1.17.0)\n",
      "Note: you may need to restart the kernel to use updated packages.\n"
     ]
    }
   ],
   "source": [
    "pip install datasets\n"
   ]
  },
  {
   "cell_type": "code",
   "execution_count": 11,
   "metadata": {},
   "outputs": [],
   "source": [
    "import pandas as pd\n",
    "\n",
    "splits = {'train': 'sent_train.csv', 'validation': 'sent_valid.csv'}\n",
    "df = pd.read_csv(\"hf://datasets/zeroshot/twitter-financial-news-sentiment/\" + splits[\"train\"])"
   ]
  },
  {
   "cell_type": "code",
   "execution_count": 12,
   "metadata": {},
   "outputs": [
    {
     "name": "stdout",
     "output_type": "stream",
     "text": [
      "                                                   text  label\n",
      "0      - JPMorgan reels in expectations on Beyond Meat       0\n",
      "1     - Nomura points to bookings weakness at Carniv...      0\n",
      "2     - Cemex cut at Credit Suisse, J.P. Morgan on w...      0\n",
      "3                      : BTIG Research cuts to Neutral       0\n",
      "4            - Funko slides after Piper Jaffray PT cut       0\n",
      "...                                                 ...    ...\n",
      "9538  The Week's Gainers and Losers on the Stoxx Eur...      2\n",
      "9539  Tupperware Brands among consumer gainers; Unil...      2\n",
      "9540  vTv Therapeutics leads healthcare gainers; Myo...      2\n",
      "9541    WORK, XPO, PYX and AMKR among after hour movers      2\n",
      "9542             YNDX, I, QD and OESX among tech movers      2\n",
      "\n",
      "[9543 rows x 2 columns]\n"
     ]
    }
   ],
   "source": [
    "# url 제거 \n",
    "import pandas as pd\n",
    "import re\n",
    "\n",
    "\n",
    "\n",
    "# URL 제거 함수\n",
    "def data_preprocess(text):\n",
    "    text = re.sub(r'\\$\\b[A-Za-z]+\\b', '', text).strip()  # 달러 기호 제거\n",
    "    text = re.sub(r'https?://\\S+', '', text) # 'text' 열에서 URL 제거\n",
    "\n",
    "    return text\n",
    "    \n",
    "df['text'] = df['text'].apply(data_preprocess)\n",
    "\n",
    "# 결과 출력\n",
    "print(df)\n"
   ]
  },
  {
   "cell_type": "code",
   "execution_count": 13,
   "metadata": {},
   "outputs": [],
   "source": [
    "# 1 label 과 2 label 서로 교환\n",
    "df['label'] = df['label'].replace({1: 2, 2: 1})\n"
   ]
  },
  {
   "cell_type": "code",
   "execution_count": 16,
   "metadata": {},
   "outputs": [
    {
     "name": "stdout",
     "output_type": "stream",
     "text": [
      "object\n"
     ]
    },
    {
     "data": {
      "text/plain": [
       "0        - JPMorgan reels in expectations on Beyond Meat \n",
       "1       - Nomura points to bookings weakness at Carniv...\n",
       "2       - Cemex cut at Credit Suisse, J.P. Morgan on w...\n",
       "3                        : BTIG Research cuts to Neutral \n",
       "4              - Funko slides after Piper Jaffray PT cut \n",
       "                              ...                        \n",
       "9538    The Week's Gainers and Losers on the Stoxx Eur...\n",
       "9539    Tupperware Brands among consumer gainers; Unil...\n",
       "9540    vTv Therapeutics leads healthcare gainers; Myo...\n",
       "9541      WORK, XPO, PYX and AMKR among after hour movers\n",
       "9542               YNDX, I, QD and OESX among tech movers\n",
       "Name: text, Length: 9543, dtype: object"
      ]
     },
     "execution_count": 16,
     "metadata": {},
     "output_type": "execute_result"
    }
   ],
   "source": [
    "#text 열의 데이터 유형 확인\n",
    "print(df[\"text\"].dtype)\n",
    "df[\"text\"]"
   ]
  },
  {
   "cell_type": "code",
   "execution_count": 14,
   "metadata": {},
   "outputs": [
    {
     "data": {
      "text/html": [
       "<div>\n",
       "<style scoped>\n",
       "    .dataframe tbody tr th:only-of-type {\n",
       "        vertical-align: middle;\n",
       "    }\n",
       "\n",
       "    .dataframe tbody tr th {\n",
       "        vertical-align: top;\n",
       "    }\n",
       "\n",
       "    .dataframe thead th {\n",
       "        text-align: right;\n",
       "    }\n",
       "</style>\n",
       "<table border=\"1\" class=\"dataframe\">\n",
       "  <thead>\n",
       "    <tr style=\"text-align: right;\">\n",
       "      <th></th>\n",
       "      <th>text</th>\n",
       "      <th>label</th>\n",
       "    </tr>\n",
       "  </thead>\n",
       "  <tbody>\n",
       "    <tr>\n",
       "      <th>0</th>\n",
       "      <td>- JPMorgan reels in expectations on Beyond Meat</td>\n",
       "      <td>0</td>\n",
       "    </tr>\n",
       "    <tr>\n",
       "      <th>1</th>\n",
       "      <td>- Nomura points to bookings weakness at Carniv...</td>\n",
       "      <td>0</td>\n",
       "    </tr>\n",
       "    <tr>\n",
       "      <th>2</th>\n",
       "      <td>- Cemex cut at Credit Suisse, J.P. Morgan on w...</td>\n",
       "      <td>0</td>\n",
       "    </tr>\n",
       "    <tr>\n",
       "      <th>3</th>\n",
       "      <td>: BTIG Research cuts to Neutral</td>\n",
       "      <td>0</td>\n",
       "    </tr>\n",
       "    <tr>\n",
       "      <th>4</th>\n",
       "      <td>- Funko slides after Piper Jaffray PT cut</td>\n",
       "      <td>0</td>\n",
       "    </tr>\n",
       "    <tr>\n",
       "      <th>...</th>\n",
       "      <td>...</td>\n",
       "      <td>...</td>\n",
       "    </tr>\n",
       "    <tr>\n",
       "      <th>9538</th>\n",
       "      <td>The Week's Gainers and Losers on the Stoxx Eur...</td>\n",
       "      <td>1</td>\n",
       "    </tr>\n",
       "    <tr>\n",
       "      <th>9539</th>\n",
       "      <td>Tupperware Brands among consumer gainers; Unil...</td>\n",
       "      <td>1</td>\n",
       "    </tr>\n",
       "    <tr>\n",
       "      <th>9540</th>\n",
       "      <td>vTv Therapeutics leads healthcare gainers; Myo...</td>\n",
       "      <td>1</td>\n",
       "    </tr>\n",
       "    <tr>\n",
       "      <th>9541</th>\n",
       "      <td>WORK, XPO, PYX and AMKR among after hour movers</td>\n",
       "      <td>1</td>\n",
       "    </tr>\n",
       "    <tr>\n",
       "      <th>9542</th>\n",
       "      <td>YNDX, I, QD and OESX among tech movers</td>\n",
       "      <td>1</td>\n",
       "    </tr>\n",
       "  </tbody>\n",
       "</table>\n",
       "<p>9543 rows × 2 columns</p>\n",
       "</div>"
      ],
      "text/plain": [
       "                                                   text  label\n",
       "0      - JPMorgan reels in expectations on Beyond Meat       0\n",
       "1     - Nomura points to bookings weakness at Carniv...      0\n",
       "2     - Cemex cut at Credit Suisse, J.P. Morgan on w...      0\n",
       "3                      : BTIG Research cuts to Neutral       0\n",
       "4            - Funko slides after Piper Jaffray PT cut       0\n",
       "...                                                 ...    ...\n",
       "9538  The Week's Gainers and Losers on the Stoxx Eur...      1\n",
       "9539  Tupperware Brands among consumer gainers; Unil...      1\n",
       "9540  vTv Therapeutics leads healthcare gainers; Myo...      1\n",
       "9541    WORK, XPO, PYX and AMKR among after hour movers      1\n",
       "9542             YNDX, I, QD and OESX among tech movers      1\n",
       "\n",
       "[9543 rows x 2 columns]"
      ]
     },
     "execution_count": 14,
     "metadata": {},
     "output_type": "execute_result"
    }
   ],
   "source": [
    "df.to_csv(\"data_tweet.csv\", index=False)\n",
    "df"
   ]
  }
 ],
 "metadata": {
  "kernelspec": {
   "display_name": "blackmamba",
   "language": "python",
   "name": "python3"
  },
  "language_info": {
   "codemirror_mode": {
    "name": "ipython",
    "version": 3
   },
   "file_extension": ".py",
   "mimetype": "text/x-python",
   "name": "python",
   "nbconvert_exporter": "python",
   "pygments_lexer": "ipython3",
   "version": "3.12.8"
  }
 },
 "nbformat": 4,
 "nbformat_minor": 2
}
